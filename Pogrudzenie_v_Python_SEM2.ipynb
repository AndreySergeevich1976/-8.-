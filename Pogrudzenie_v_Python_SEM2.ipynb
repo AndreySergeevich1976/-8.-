{
  "nbformat": 4,
  "nbformat_minor": 0,
  "metadata": {
    "colab": {
      "provenance": [],
      "authorship_tag": "ABX9TyMkqF7Nwt4dQxLEwf2KNb1X",
      "include_colab_link": true
    },
    "kernelspec": {
      "name": "python3",
      "display_name": "Python 3"
    },
    "language_info": {
      "name": "python"
    }
  },
  "cells": [
    {
      "cell_type": "markdown",
      "metadata": {
        "id": "view-in-github",
        "colab_type": "text"
      },
      "source": [
        "<a href=\"https://colab.research.google.com/github/AndreySergeevich1976/-8.-/blob/main/Pogrudzenie_v_Python_SEM2.ipynb\" target=\"_parent\"><img src=\"https://colab.research.google.com/assets/colab-badge.svg\" alt=\"Open In Colab\"/></a>"
      ]
    },
    {
      "cell_type": "code",
      "execution_count": 2,
      "metadata": {
        "colab": {
          "base_uri": "https://localhost:8080/"
        },
        "id": "0c4Z5SFIAJQ5",
        "outputId": "aaadc52f-dd0e-4ed2-a83d-de076bc43f79"
      },
      "outputs": [
        {
          "output_type": "stream",
          "name": "stdout",
          "text": [
            "<class 'int'>\n",
            "<class 'float'>\n",
            "<class 'str'>\n",
            "<class 'tuple'>\n",
            "<class 'list'>\n"
          ]
        }
      ],
      "source": [
        "x = 42\n",
        "y = 3.91456\n",
        "z = \"hello\"\n",
        "c = (x,y,z)\n",
        "d = [x, y,z]\n",
        "print(type(x),type(y),type(z), sep='\\n')\n",
        "print(type(c),type(d), sep='\\n')"
      ]
    },
    {
      "cell_type": "code",
      "source": [
        "from sys import getsizeof\n",
        "from typing import Hashable\n",
        "\n",
        "data = [1, 2, \"строка \", 5.11, [1,2,3]]\n",
        "\n",
        "for i in range(len(data)):\n",
        "  print(i+1, end = \"\\t\")\n",
        "  print(data[i], end = \"\\t\")\n",
        "  print(id(data[i]), end = \"\\t\")\n",
        "  print(getsizeof(data[i]), end = \"\\t\")\n",
        "  if (isinstance(data[i], Hashable)):\n",
        "    print(hash(data[i]), end = \"\\t\")\n",
        "  if (isinstance(data[i], int)):\n",
        "    print(('целое'), end = \"\\t\")\n",
        "  if (isinstance(data[i], str)):\n",
        "    print(('строчка'), end = \"\\t\")\n",
        "  print(' ')"
      ],
      "metadata": {
        "colab": {
          "base_uri": "https://localhost:8080/"
        },
        "id": "0VrDZwCvDS0k",
        "outputId": "bf52ba4a-c211-4ce9-9f11-ab7049e601b6"
      },
      "execution_count": 17,
      "outputs": [
        {
          "output_type": "stream",
          "name": "stdout",
          "text": [
            "1\t1\t10750856\t28\t1\tцелое\t \n",
            "2\t2\t10750888\t28\t2\tцелое\t \n",
            "3\tстрока \t140663034550784\t88\t-839703397131085690\tстрочка\t \n",
            "4\t5.11\t140663502546352\t24\t253642731013507077\t \n",
            "5\t[1, 2, 3]\t140663035551616\t88\t \n"
          ]
        }
      ]
    },
    {
      "cell_type": "code",
      "source": [
        "BASE = 8\n",
        "number = int(input(''))\n",
        "print(oct(number))\n",
        "result= ' '\n",
        "while number > BASE:\n",
        "  result +=str(number % BASE)\n",
        "  number //= BASE\n",
        "result += str(number)\n",
        "print(result[::-1])"
      ],
      "metadata": {
        "colab": {
          "base_uri": "https://localhost:8080/"
        },
        "id": "xsy6CJYZNryA",
        "outputId": "66d7d8ae-859b-453a-930f-94c7b9d6480e"
      },
      "execution_count": 25,
      "outputs": [
        {
          "output_type": "stream",
          "name": "stdout",
          "text": [
            "123\n",
            "0o173\n",
            "173 \n"
          ]
        }
      ]
    },
    {
      "cell_type": "code",
      "source": [
        "import decimal\n",
        "import math\n",
        "decimal.getcontext().prec = 50\n",
        "d = decimal.Decimal(input(''))\n",
        "if d > 1000:\n",
        "  print(\"много\")\n",
        "r = d/2\n",
        "pi = decimal.Decimal(math.pi)\n",
        "s = pi*r**2\n",
        "long = pi*2*r\n",
        "print(s, len(str(long)))"
      ],
      "metadata": {
        "colab": {
          "base_uri": "https://localhost:8080/"
        },
        "id": "0_fUuBPHPnVC",
        "outputId": "de0b891b-5412-47a2-a0a0-5db7b7663527"
      },
      "execution_count": 31,
      "outputs": [
        {
          "output_type": "stream",
          "name": "stdout",
          "text": [
            "5\n",
            "19.634954084936206974987271678401157259941101074219 51\n"
          ]
        }
      ]
    }
  ]
}