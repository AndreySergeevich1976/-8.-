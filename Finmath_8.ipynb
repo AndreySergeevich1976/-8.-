{
  "nbformat": 4,
  "nbformat_minor": 0,
  "metadata": {
    "colab": {
      "provenance": [],
      "authorship_tag": "ABX9TyPIunjWsM4yWBax4K8ZMqX8",
      "include_colab_link": true
    },
    "kernelspec": {
      "name": "python3",
      "display_name": "Python 3"
    },
    "language_info": {
      "name": "python"
    }
  },
  "cells": [
    {
      "cell_type": "markdown",
      "metadata": {
        "id": "view-in-github",
        "colab_type": "text"
      },
      "source": [
        "<a href=\"https://colab.research.google.com/github/AndreySergeevich1976/-8.-/blob/main/Finmath_8.ipynb\" target=\"_parent\"><img src=\"https://colab.research.google.com/assets/colab-badge.svg\" alt=\"Open In Colab\"/></a>"
      ]
    },
    {
      "cell_type": "markdown",
      "source": [
        "Напишите функцию, которая получает на вход директорию и рекурсивно обходит её и все вложенные директории. Результаты обхода сохраните в файлы json, csv и pickle.\n",
        "\n",
        "1. Для дочерних объектов указывайте родительскую директорию.\n",
        "2. Для каждого объекта укажите файл это или директория.\n",
        "3. Для файлов сохраните его размер в байтах, а для директорий размер файлов в ней с учётом всех вложенных файлов и директорий."
      ],
      "metadata": {
        "id": "Oj6tx2LzDDwV"
      }
    },
    {
      "cell_type": "code",
      "source": [
        "import os\n",
        "import json\n",
        "import csv\n",
        "import pickle\n",
        "\n",
        "def get_directory_info(directory):\n",
        "    directory_info = []\n",
        "\n",
        "    for root, dirs, files in os.walk(directory):\n",
        "        total_size = 0\n",
        "\n",
        "        # Обработка файлов\n",
        "        for file in files:\n",
        "            file_path = os.path.join(root, file)\n",
        "            file_size = os.path.getsize(file_path)\n",
        "            total_size += file_size\n",
        "            directory_info.append({\n",
        "                'name': file,\n",
        "                'path': file_path,\n",
        "                'type': 'file',\n",
        "                'size': file_size,\n",
        "                'parent_directory': root\n",
        "            })\n",
        "\n",
        "        # Обработка директорий\n",
        "        for dir in dirs:\n",
        "            dir_path = os.path.join(root, dir)\n",
        "            directory_info.append({\n",
        "                'name': dir,\n",
        "                'path': dir_path,\n",
        "                'type': 'directory',\n",
        "                'size': total_size,  # Размер директорий, включая их содержимое\n",
        "                'parent_directory': root\n",
        "            })\n",
        "\n",
        "    return directory_info\n",
        "\n",
        "def save_to_json(data, filename):\n",
        "    with open(filename, 'w') as json_file:\n",
        "        json.dump(data, json_file, indent=4)\n",
        "\n",
        "def save_to_csv(data, filename):\n",
        "    with open(filename, 'w', newline='') as csv_file:\n",
        "        fieldnames = ['name', 'path', 'type', 'size', 'parent_directory']\n",
        "        writer = csv.DictWriter(csv_file, fieldnames=fieldnames)\n",
        "\n",
        "        writer.writeheader()\n",
        "        for row in data:\n",
        "            writer.writerow(row)\n",
        "\n",
        "def save_to_pickle(data, filename):\n",
        "    with open(filename, 'wb') as pickle_file:\n",
        "        pickle.dump(data, pickle_file)\n",
        "\n",
        "def process_directory(directory):\n",
        "    directory_info = get_directory_info(directory)\n",
        "\n",
        "    # Сохранение в разные форматы\n",
        "    save_to_json(directory_info, 'directory_info.json')\n",
        "    save_to_csv(directory_info, 'directory_info.csv')\n",
        "    save_to_pickle(directory_info, 'directory_info.pkl')\n",
        "\n",
        "# Пример использования\n",
        "# process_directory('/path/to/your/directory')"
      ],
      "metadata": {
        "id": "j7iAdKZPPFxC"
      },
      "execution_count": 1,
      "outputs": []
    },
    {
      "cell_type": "markdown",
      "source": [
        "2. Соберите из созданных на уроке и в рамках домашнего задания функций пакет для работы с файлами разных форматов."
      ],
      "metadata": {
        "id": "yv6XqlSOQSVg"
      }
    },
    {
      "cell_type": "code",
      "source": [
        "import os\n",
        "import json\n",
        "import csv\n",
        "import pickle\n",
        "\n",
        "def get_directory_info(directory):\n",
        "    directory_info = []\n",
        "\n",
        "    for root, dirs, files in os.walk(directory):\n",
        "        total_size = 0\n",
        "\n",
        "        for file in files:\n",
        "            file_path = os.path.join(root, file)\n",
        "            file_size = os.path.getsize(file_path)\n",
        "            total_size += file_size\n",
        "            directory_info.append({\n",
        "                'name': file,\n",
        "                'path': file_path,\n",
        "                'type': 'file',\n",
        "                'size': file_size,\n",
        "                'parent_directory': root\n",
        "            })\n",
        "\n",
        "        for dir in dirs:\n",
        "            dir_path = os.path.join(root, dir)\n",
        "            directory_info.append({\n",
        "                'name': dir,\n",
        "                'path': dir_path,\n",
        "                'type': 'directory',\n",
        "                'size': total_size,\n",
        "                'parent_directory': root\n",
        "            })\n",
        "\n",
        "    return directory_info\n",
        "\n",
        "def save_to_json(data, filename):\n",
        "    with open(filename, 'w') as json_file:\n",
        "        json.dump(data, json_file, indent=4)\n",
        "\n",
        "def save_to_csv(data, filename):\n",
        "    with open(filename, 'w', newline='') as csv_file:\n",
        "        fieldnames = ['name', 'path', 'type', 'size', 'parent_directory']\n",
        "        writer = csv.DictWriter(csv_file, fieldnames=fieldnames)\n",
        "\n",
        "        writer.writeheader()\n",
        "        for row in data:\n",
        "            writer.writerow(row)\n",
        "\n",
        "def save_to_pickle(data, filename):\n",
        "    with open(filename, 'wb') as pickle_file:\n",
        "        pickle.dump(data, pickle_file)\n",
        "\n",
        "def process_directory(directory):\n",
        "    directory_info = get_directory_info(directory)\n",
        "\n",
        "    save_to_json(directory_info, 'directory_info.json')\n",
        "    save_to_csv(directory_info, 'directory_info.csv')\n",
        "    save_to_pickle(directory_info, 'directory_info.pkl')"
      ],
      "metadata": {
        "id": "_SgUVfpJRUcA"
      },
      "execution_count": 4,
      "outputs": []
    },
    {
      "cell_type": "code",
      "source": [
        "# В файле __init__.py добавим следующий код:\n",
        "from .file_utils import (\n",
        "    get_directory_info,\n",
        "    save_to_json,\n",
        "    save_to_csv,\n",
        "    save_to_pickle,\n",
        "    process_directory\n",
        ")"
      ],
      "metadata": {
        "id": "jLL7g6sYRZCD"
      },
      "execution_count": null,
      "outputs": []
    },
    {
      "cell_type": "code",
      "source": [
        "# В файле setup.py добавим следующее:\n",
        "from setuptools import setup, find_packages\n",
        "\n",
        "setup(\n",
        "    name='file_handler',\n",
        "    version='0.1',\n",
        "    packages=find_packages(),\n",
        "    description='A package for handling files in different formats',\n",
        "    author='Your Name',\n",
        "    author_email='your.email@example.com',\n",
        "    url='https://github.com/yourusername/file_handler',\n",
        "    classifiers=[\n",
        "        'Programming Language :: Python :: 3',\n",
        "        'License :: OSI Approved :: MIT License',\n",
        "        'Operating System :: OS Independent',\n",
        "    ],\n",
        "    python_requires='>=3.6',\n",
        ")"
      ],
      "metadata": {
        "id": "5dUZs41BRcGY"
      },
      "execution_count": null,
      "outputs": []
    },
    {
      "cell_type": "code",
      "source": [
        "from file_handler.file_utils import (\n",
        "    get_directory_info,\n",
        "    save_to_json,\n",
        "    save_to_csv,\n",
        "    save_to_pickle,\n",
        "    process_directory\n",
        ")\n",
        "\n",
        "process_directory(r'C:\\Users\\ankrasnov\\Documents\\ДЗ1\\Pogruzka_v_Python')\n",
        "from file_handler.file_utils import process_directory\n",
        "\n",
        "process_directory(r'C:\\Users\\ankrasnov\\Documents\\ДЗ1\\Pogruzka_v_Python')"
      ],
      "metadata": {
        "id": "ROsmpdXLTBFT"
      },
      "execution_count": null,
      "outputs": []
    }
  ]
}