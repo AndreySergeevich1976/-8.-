{
  "nbformat": 4,
  "nbformat_minor": 0,
  "metadata": {
    "colab": {
      "provenance": [],
      "authorship_tag": "ABX9TyNdBaSzkvAkWiqMpzHNPfg3",
      "include_colab_link": true
    },
    "kernelspec": {
      "name": "python3",
      "display_name": "Python 3"
    },
    "language_info": {
      "name": "python"
    }
  },
  "cells": [
    {
      "cell_type": "markdown",
      "metadata": {
        "id": "view-in-github",
        "colab_type": "text"
      },
      "source": [
        "<a href=\"https://colab.research.google.com/github/AndreySergeevich1976/-8.-/blob/main/HW2.ipynb\" target=\"_parent\"><img src=\"https://colab.research.google.com/assets/colab-badge.svg\" alt=\"Open In Colab\"/></a>"
      ]
    },
    {
      "cell_type": "code",
      "execution_count": 1,
      "metadata": {
        "colab": {
          "base_uri": "https://localhost:8080/"
        },
        "id": "6JD_wDIhfOVE",
        "outputId": "f497c5fe-d99d-498d-e227-b45d5464b05e"
      },
      "outputs": [
        {
          "output_type": "stream",
          "name": "stdout",
          "text": [
            "Введите целое число: 12\n",
            "Шестнадцатеричное представление числа 12: c\n",
            "Проверка с использованием hex(): 0xc\n"
          ]
        }
      ],
      "source": [
        " def to_hexadecimal(n):\n",
        "    # Проверим, что n является целым числом\n",
        "    if not isinstance(n, int):\n",
        "        raise ValueError(\"Входное значение должно быть целым числом.\")\n",
        "\n",
        "    # Преобразуем число в шестнадцатеричное представление\n",
        "    hex_value = \"\"\n",
        "\n",
        "    # Отрицательное число\n",
        "    if n < 0:\n",
        "        n = abs(n)\n",
        "        hex_value = \"-\"\n",
        "\n",
        "    # Преобразование в шестнадцатеричную систему\n",
        "    hex_digits = \"0123456789abcdef\"\n",
        "\n",
        "    if n == 0:\n",
        "        hex_value += \"0\"\n",
        "    else:\n",
        "        while n > 0:\n",
        "            remainder = n % 16\n",
        "            hex_value = hex_digits[remainder] + hex_value\n",
        "            n = n // 16\n",
        "\n",
        "    return hex_value\n",
        "\n",
        "# Пример использования\n",
        "number = int(input(\"Введите целое число: \"))\n",
        "hex_representation = to_hexadecimal(number)\n",
        "print(f\"Шестнадцатеричное представление числа {number}: {hex_representation}\")\n",
        "print(f\"Проверка с использованием hex(): {hex(number)}\")"
      ]
    },
    {
      "cell_type": "code",
      "source": [
        "from fractions import Fraction\n",
        "\n",
        "def convert_to_fraction(fraction_str):\n",
        "    \"\"\"Преобразует строку вида 'a/b' в дробь.\"\"\"\n",
        "    try:\n",
        "        # Разделяем строку на числитель и знаменатель\n",
        "        numerator, denominator = fraction_str.split('/')\n",
        "        # Создаем дробь из числителя и знаменателя\n",
        "        return Fraction(int(numerator), int(denominator))\n",
        "    except ValueError:\n",
        "        raise ValueError(\"Пожалуйста, введите дробь в формате 'a/b', где a и b - целые числа.\")\n",
        "    except ZeroDivisionError:\n",
        "        raise ValueError(\"Знаменатель не может быть равен нулю.\")\n",
        "\n",
        "def main():\n",
        "    # Ввод дробей от пользователя\n",
        "    fraction1_str = input(\"Введите первую дробь (в формате 'a/b'): \")\n",
        "    fraction2_str = input(\"Введите вторую дробь (в формате 'a/b'): \")\n",
        "\n",
        "    # Преобразуем введенные строки в дроби\n",
        "    fraction1 = convert_to_fraction(fraction1_str)\n",
        "    fraction2 = convert_to_fraction(fraction2_str)\n",
        "\n",
        "    # Считаем сумму и произведение дробей\n",
        "    sum_result = fraction1 + fraction2\n",
        "    product_result = fraction1 * fraction2\n",
        "\n",
        "    # Выводим результаты\n",
        "    print(f\"Сумма дробей: {sum_result}\")\n",
        "    print(f\"Произведение дробей: {product_result}\")\n",
        "\n",
        "    # Проверка с использованием модуля fractions\n",
        "    print(f\"Проверка: Сумма с fractions: {Fraction(fraction1_str) + Fraction(fraction2_str)}\")\n",
        "    print(f\"Проверка: Произведение с fractions: {Fraction(fraction1_str) * Fraction(fraction2_str)}\")\n",
        "\n",
        "if __name__ == \"__main__\":\n",
        "    main()"
      ],
      "metadata": {
        "colab": {
          "base_uri": "https://localhost:8080/"
        },
        "id": "TnM4lL798_qz",
        "outputId": "2ad1f6c9-b9cc-45ea-e2ed-7b943d69dfb3"
      },
      "execution_count": 2,
      "outputs": [
        {
          "output_type": "stream",
          "name": "stdout",
          "text": [
            "Введите первую дробь (в формате 'a/b'): 4/8\n",
            "Введите вторую дробь (в формате 'a/b'): 58/90\n",
            "Сумма дробей: 103/90\n",
            "Произведение дробей: 29/90\n",
            "Проверка: Сумма с fractions: 103/90\n",
            "Проверка: Произведение с fractions: 29/90\n"
          ]
        }
      ]
    }
  ]
}