{
  "nbformat": 4,
  "nbformat_minor": 0,
  "metadata": {
    "colab": {
      "provenance": [],
      "authorship_tag": "ABX9TyMFkb+SggVCCmXieUG/q60H",
      "include_colab_link": true
    },
    "kernelspec": {
      "name": "python3",
      "display_name": "Python 3"
    },
    "language_info": {
      "name": "python"
    }
  },
  "cells": [
    {
      "cell_type": "markdown",
      "metadata": {
        "id": "view-in-github",
        "colab_type": "text"
      },
      "source": [
        "<a href=\"https://colab.research.google.com/github/AndreySergeevich1976/-8.-/blob/main/HW5.ipynb\" target=\"_parent\"><img src=\"https://colab.research.google.com/assets/colab-badge.svg\" alt=\"Open In Colab\"/></a>"
      ]
    },
    {
      "cell_type": "code",
      "execution_count": 1,
      "metadata": {
        "colab": {
          "base_uri": "https://localhost:8080/"
        },
        "id": "VaXrmH0u1BqG",
        "outputId": "b48f3a27-d475-4789-8651-494e94066cad"
      },
      "outputs": [
        {
          "output_type": "stream",
          "name": "stdout",
          "text": [
            "('C:/Users/Example/Documents', 'file', 'txt')\n"
          ]
        }
      ],
      "source": [
        "def split_path(file_path: str) -> tuple:\n",
        "    \"\"\"Разделяет путь до файла на путь, имя файла и расширение\"\"\"\n",
        "\n",
        "    # Находим последний символ \"/\" (или \"\\\\\" на Windows), который отделяет путь от имени файла\n",
        "    last_slash_index = file_path.rfind('/')  # Для Unix-систем\n",
        "    if last_slash_index == -1:  # Если не найден, проверяем для Windows\n",
        "        last_slash_index = file_path.rfind('\\\\')\n",
        "\n",
        "    # Получаем путь и имя файла\n",
        "    if last_slash_index != -1:\n",
        "        path = file_path[:last_slash_index]  # Путь к файлу\n",
        "        file_name_with_extension = file_path[last_slash_index + 1:]  # Имя файла с расширением\n",
        "    else:\n",
        "        path = ''  # Если пути нет, устанавливаем путь как пустую строку\n",
        "        file_name_with_extension = file_path  # Весь путь - это имя файла\n",
        "\n",
        "    # Теперь разделим имя файла на имя и расширение\n",
        "    dot_index = file_name_with_extension.rfind('.')\n",
        "    if dot_index != -1:\n",
        "        file_name = file_name_with_extension[:dot_index]  # Имя файла\n",
        "        extension = file_name_with_extension[dot_index + 1:]  # Расширение файла\n",
        "    else:\n",
        "        file_name = file_name_with_extension  # Если нет расширения, имя файла - это всё\n",
        "        extension = ''  # Расширение пустое\n",
        "\n",
        "    return (path, file_name, extension)  # Возвращаем кортеж\n",
        "\n",
        "# Пример использования функции\n",
        "file_path = \"C:/Users/Example/Documents/file.txt\"\n",
        "result = split_path(file_path)\n",
        "print(result)  # Выводит: ('C:/Users/Example/Documents', 'file', 'txt')"
      ]
    },
    {
      "cell_type": "code",
      "source": [
        "# Пример входных данных\n",
        "names = [\"Alice\", \"Bob\", \"Charlie\"]\n",
        "rates = [1000, 1500, 2000]\n",
        "bonuses = [\"10.25%\", \"5%\", \"15%\"]\n",
        "\n",
        "# Генератор словаря\n",
        "bonus_dict = {name: rate * (float(bonus[:-1]) / 100) for name, rate, bonus in zip(names, rates, bonuses)}\n",
        "\n",
        "# Вывод результата\n",
        "print(bonus_dict)  # Выведет: {'Alice': 102.5, 'Bob': 75.0, 'Charlie': 300.0}"
      ],
      "metadata": {
        "id": "0fpZZ5Yl7SL8",
        "colab": {
          "base_uri": "https://localhost:8080/"
        },
        "outputId": "21f44eb1-2649-4a65-b5d6-5c56b00b025f"
      },
      "execution_count": 2,
      "outputs": [
        {
          "output_type": "stream",
          "name": "stdout",
          "text": [
            "{'Alice': 102.5, 'Bob': 75.0, 'Charlie': 300.0}\n"
          ]
        }
      ]
    },
    {
      "cell_type": "code",
      "source": [
        "def fibonacci_generator():\n",
        "    \"\"\"Генератор чисел Фибоначчи\"\"\"\n",
        "    a, b = 0, 1  # Начальные значения Фибоначчи: F(0) = 0, F(1) = 1\n",
        "    while True:  # Бесконечный цикл для генерации чисел\n",
        "        yield a  # Возвращаем текущее значение a\n",
        "        a, b = b, a + b  # Обновляем значения a и b\n",
        "\n",
        "# Пример использования генератора\n",
        "fib_gen = fibonacci_generator()  # Создаем генератор\n",
        "\n",
        "# Генерируем первые 10 чисел Фибоначчи\n",
        "for _ in range(10):\n",
        "    print(next(fib_gen))  # Выводим следующее число Фибоначчи"
      ],
      "metadata": {
        "colab": {
          "base_uri": "https://localhost:8080/"
        },
        "id": "rP8V5fy6-zBS",
        "outputId": "c72d1054-e03b-4869-8102-3f05710e37e6"
      },
      "execution_count": 3,
      "outputs": [
        {
          "output_type": "stream",
          "name": "stdout",
          "text": [
            "0\n",
            "1\n",
            "1\n",
            "2\n",
            "3\n",
            "5\n",
            "8\n",
            "13\n",
            "21\n",
            "34\n"
          ]
        }
      ]
    }
  ]
}