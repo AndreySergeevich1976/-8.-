{
  "nbformat": 4,
  "nbformat_minor": 0,
  "metadata": {
    "colab": {
      "provenance": [],
      "authorship_tag": "ABX9TyMHmJeDOxt4Hjl1wL/aHbwR",
      "include_colab_link": true
    },
    "kernelspec": {
      "name": "python3",
      "display_name": "Python 3"
    },
    "language_info": {
      "name": "python"
    }
  },
  "cells": [
    {
      "cell_type": "markdown",
      "metadata": {
        "id": "view-in-github",
        "colab_type": "text"
      },
      "source": [
        "<a href=\"https://colab.research.google.com/github/AndreySergeevich1976/-8.-/blob/main/HW6.ipynb\" target=\"_parent\"><img src=\"https://colab.research.google.com/assets/colab-badge.svg\" alt=\"Open In Colab\"/></a>"
      ]
    },
    {
      "cell_type": "code",
      "execution_count": null,
      "metadata": {
        "colab": {
          "base_uri": "https://localhost:8080/"
        },
        "id": "AItAzSzURENj",
        "outputId": "5c7a9089-8069-422f-efa3-3dd8708a3244"
      },
      "outputs": [
        {
          "output_type": "stream",
          "name": "stdout",
          "text": [
            "Не является високосным\n"
          ]
        }
      ],
      "source": [
        "# После того как вы вставите код в ячейку в Google Colab, просто измените значение переменной date_to_check на нужную дату\n",
        "\n",
        "from datetime import datetime\n",
        "\n",
        "def is_leap_year(year: int) -> bool:\n",
        "    \"\"\"Проверяет, является ли год високосным.\"\"\"\n",
        "    if year % 4 == 0:\n",
        "        if year % 100 == 0:\n",
        "            if year % 400 == 0:\n",
        "                return True\n",
        "            return False\n",
        "        return True\n",
        "    return False\n",
        "\n",
        "def is_valid_date(date_str: str) -> bool:\n",
        "    \"\"\"Проверяет, является ли дата корректной.\"\"\"\n",
        "    try:\n",
        "        datetime.strptime(date_str, \"%d.%m.%Y\")  # Проверяем формат даты\n",
        "        return True\n",
        "    except ValueError:\n",
        "        return False\n",
        "\n",
        "def validate_date(date_str: str) -> str:\n",
        "    \"\"\"Валидирует дату и возвращает, является ли она високосной.\"\"\"\n",
        "    if is_valid_date(date_str):\n",
        "        year = int(date_str.split(\".\")[-1])  # Извлекаем год из даты\n",
        "        if is_leap_year(year):\n",
        "            return 'Високосный'\n",
        "        else:\n",
        "            return 'Не является високосным'\n",
        "    else:\n",
        "        return 'Дата заполнена некорректно'\n",
        "\n",
        "# Пример использования функции\n",
        "date_to_check = \"28.02.2025\"  # Замените на нужную вам дату\n",
        "result = validate_date(date_to_check)\n",
        "print(result)"
      ]
    },
    {
      "cell_type": "code",
      "source": [
        "import random as rnd\n",
        "\n",
        "__all__ = ['check_queen_8x8', 'gen_positions']\n",
        "\n",
        "_QUEEN_COUNT: int = 8  # максимальное кол-во ферзей\n",
        "_SIZE_BOARD: int = 8    # размер доски\n",
        "\n",
        "def check_queen_8x8(positions: list[tuple[int, int]]) -> bool:\n",
        "    \"\"\"Проверка задачи о ферзях.\n",
        "\n",
        "    :positions: позиции ферзей - кортежи (строка, столбец)\n",
        "    :return: True, если ферзи не угрожают друг другу, иначе False\n",
        "    \"\"\"\n",
        "    if len(positions) != _QUEEN_COUNT:\n",
        "        raise ValueError(\"Должно быть 8 позиций ферзей!\")  # Проверка на количество ферзей\n",
        "\n",
        "    for i in range(7):  # Перебираем каждого ферзя\n",
        "        row_1, col_1 = positions[i]\n",
        "        for j in range(i + 1, 8):  # Проверяем на угрозу с остальными ферзями\n",
        "            row_2, col_2 = positions[j]\n",
        "            # Проверяем, угрожают ли ферзи друг другу\n",
        "            if row_1 == row_2 or col_1 == col_2 or abs(row_1 - row_2) == abs(col_1 - col_2):\n",
        "                return False  # Если угрожают, возвращаем False\n",
        "    return True  # Если проверки пройдены, возвращаем True\n",
        "\n",
        "def gen_positions() -> list[tuple[int, int]]:\n",
        "    \"\"\"Генератор позиций ферзей. Генерирует _QUEEN_COUNT позиций, по одному ферзю на строку.\n",
        "    Для доски размером _SIZE_BOARD\n",
        "    :return: список позиций ферзей\n",
        "    \"\"\"\n",
        "    result = []\n",
        "    for i in range(_SIZE_BOARD):\n",
        "        result.append((i + 1, rnd.randint(1, _SIZE_BOARD)))  # Генерация случайного столбца для каждой строки\n",
        "    return result"
      ],
      "metadata": {
        "id": "GtBHGV3meDkd"
      },
      "execution_count": null,
      "outputs": []
    },
    {
      "cell_type": "code",
      "source": [
        "positions = []\n",
        "print(\"Введите координаты 8 ферзей в формате 'строка столбец':\")\n",
        "for i in range(8):\n",
        "    position = input(f\"Ферзь {i + 1}: \")\n",
        "    row, col = map(int, position.split())\n",
        "    positions.append((row, col))\n",
        "\n",
        "if check_queen_8x8(positions):\n",
        "    print(\"Ферзи не угрожают друг другу.\")\n",
        "else:\n",
        "    print(\"Ферзи угрожают друг другу.\")"
      ],
      "metadata": {
        "colab": {
          "base_uri": "https://localhost:8080/"
        },
        "id": "5XFpPzHWRVYe",
        "outputId": "b56915f1-ecbb-4816-cf0f-101e677d8c6f"
      },
      "execution_count": null,
      "outputs": [
        {
          "output_type": "stream",
          "name": "stdout",
          "text": [
            "Введите координаты 8 ферзей в формате 'строка столбец':\n",
            "Ферзь 1: 1 1\n",
            "Ферзь 2: 2 2 \n",
            "Ферзь 3: 3 3 \n",
            "Ферзь 4: 4 4 \n",
            "Ферзь 5: 5 5 \n",
            "Ферзь 6: 6 6 \n",
            "Ферзь 7: 7 7 \n",
            "Ферзь 8: 8 8 \n",
            "Ферзи угрожают друг другу.\n"
          ]
        }
      ]
    },
    {
      "cell_type": "code",
      "source": [
        "import random as rnd\n",
        "\n",
        "_QUEEN_COUNT = 8  # максимальное кол-во ферзей\n",
        "_SIZE_BOARD = 8    # размер доски\n",
        "\n",
        "def check_queen_8x8(positions):\n",
        "    \"\"\"Проверка позиции ферзей.\"\"\"\n",
        "    if len(positions) != _QUEEN_COUNT:\n",
        "        return False  # Должно быть 8 ферзей\n",
        "\n",
        "    for i in range(len(positions)):\n",
        "        for j in range(i + 1, len(positions)):\n",
        "            # Проверяем, угрожают ли ферзи друг другу\n",
        "            if (positions[i][0] == positions[j][0] or  # одна строка\n",
        "                positions[i][1] == positions[j][1] or  # один столбец\n",
        "                abs(positions[i][0] - positions[j][0]) == abs(positions[i][1] - positions[j][1])):  # диагонали\n",
        "                return False\n",
        "    return True\n",
        "\n",
        "def gen_positions():\n",
        "    \"\"\"Генерация случайных позиций ферзей.\"\"\"\n",
        "    return [(i + 1, rnd.randint(1, _SIZE_BOARD)) for i in range(_QUEEN_COUNT)]\n",
        "\n",
        "def find_successful_arrangements(num_arrangements=4):\n",
        "    \"\"\"Находит успешные расстановки ферзей.\"\"\"\n",
        "    successful_arrangements = []\n",
        "    attempts = 0\n",
        "    while len(successful_arrangements) < num_arrangements:\n",
        "        positions = gen_positions()\n",
        "        if check_queen_8x8(positions):\n",
        "            successful_arrangements.append(positions)\n",
        "        attempts += 1\n",
        "        if attempts > 50000:  # Ограничение на количество попыток\n",
        "            break\n",
        "\n",
        "    return successful_arrangements\n",
        "\n",
        "# Вызов функции и вывод результатов\n",
        "successful_positions = find_successful_arrangements()\n",
        "for idx, arrangement in enumerate(successful_positions):\n",
        "    print(f\"Успешная расстановка {idx + 1}: {arrangement}\")"
      ],
      "metadata": {
        "id": "kH31lhMsjiG2",
        "colab": {
          "base_uri": "https://localhost:8080/"
        },
        "outputId": "b243fd32-5fa4-417b-a3a3-e71f73973704"
      },
      "execution_count": 44,
      "outputs": [
        {
          "output_type": "stream",
          "name": "stdout",
          "text": [
            "Успешная расстановка 1: [(1, 4), (2, 2), (3, 7), (4, 3), (5, 6), (6, 8), (7, 1), (8, 5)]\n",
            "Успешная расстановка 2: [(1, 1), (2, 6), (3, 8), (4, 3), (5, 7), (6, 4), (7, 2), (8, 5)]\n"
          ]
        }
      ]
    }
  ]
}